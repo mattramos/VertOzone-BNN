{
 "cells": [
  {
   "cell_type": "code",
   "execution_count": 1,
   "metadata": {},
   "outputs": [],
   "source": [
    "import tensorflow as tf\n",
    "from BNN import BNN\n",
    "from preprocess_data import read_data\n",
    "import numpy as np\n",
    "from sklearn.utils import shuffle\n",
    "from utils import *\n",
    "import matplotlib.pyplot as plt"
   ]
  },
  {
   "cell_type": "code",
   "execution_count": 2,
   "metadata": {},
   "outputs": [
    {
     "name": "stdout",
     "output_type": "stream",
     "text": [
      "Number of obs: 439203\n",
      "Training on 83.1%\n",
      "Testing on 4.4%\n",
      "Validation (temporal extrapolation) on 6.8%\n",
      "Validation (interpolation) on 5.7%\n"
     ]
    }
   ],
   "source": [
    "# Set the seed\n",
    "seed = 1\n",
    "np.random.seed(seed)\n",
    "tf.set_random_seed(seed)\n",
    "\n",
    "# Load data\n",
    "data_file = 'vmro3_refC1SD_70x36_13mdls_masked_extrap_and_interp.pkl'\n",
    "X_train, y_train, X_test, y_test, X_interp, y_interp, X_extrap, y_extrap, X_at, y_at = read_data(data_file)"
   ]
  },
  {
   "cell_type": "code",
   "execution_count": 3,
   "metadata": {},
   "outputs": [],
   "source": [
    "config = tf.ConfigProto()\n",
    "config.gpu_options.allow_growth=True\n",
    "sess = tf.Session(config=config)\n",
    "\n",
    "num_NNs = 20\n",
    "checkpoint_dir = './checkpoints/model{}/'\n",
    "log_dir = './logs/model{}/'\n",
    "x_dim = X_train.shape[1]\n",
    "y_dim = y_train.shape[1]\n",
    "num_models = 13\n",
    "n_data = X_train.shape[0]\n",
    "hidden_size = 500\n",
    "learning_rate = 0.0001\n",
    "\n",
    "# Priors \n",
    "bias_mean = 0.00\n",
    "bias_std = 0.02\n",
    "noise_mean = 0.03\n",
    "noise_std = 0.02\n",
    "layer_scale = 1.1\n",
    "\n",
    "alpha_dim = x_dim - num_models\n",
    "init_std_1w =  np.sqrt(150.0/(alpha_dim))\n",
    "init_std_1b = init_std_1w\n",
    "init_std_2w =  (layer_scale)/np.sqrt(hidden_size)\n",
    "init_std_2b = init_std_2w\n",
    "init_std_biasw = (1.05 * layer_scale * bias_std)/np.sqrt(hidden_size)\n",
    "init_std_noisew = (2.5)/np.sqrt(hidden_size)\n",
    "lambda_anchor = 1.0/(np.array([init_std_1w,init_std_1b,init_std_2w,init_std_2b,init_std_biasw,init_std_noisew])**2)"
   ]
  },
  {
   "cell_type": "code",
   "execution_count": 4,
   "metadata": {},
   "outputs": [
    {
     "name": "stdout",
     "output_type": "stream",
     "text": [
      "WARNING:tensorflow:From /home/jupyter/BNN.py:24: The name tf.summary.FileWriter is deprecated. Please use tf.compat.v1.summary.FileWriter instead.\n",
      "\n",
      "WARNING:tensorflow:From /home/jupyter/BNN.py:36: The name tf.placeholder is deprecated. Please use tf.compat.v1.placeholder instead.\n",
      "\n",
      "WARNING:tensorflow:From /home/jupyter/BNN.py:41: The name tf.layers.Dense is deprecated. Please use tf.compat.v1.layers.Dense instead.\n",
      "\n",
      "WARNING:tensorflow:From /home/jupyter/BNN.py:76: The name tf.train.AdamOptimizer is deprecated. Please use tf.compat.v1.train.AdamOptimizer instead.\n",
      "\n",
      "WARNING:tensorflow:From /home/jupyter/BNN.py:83: The name tf.log is deprecated. Please use tf.math.log instead.\n",
      "\n",
      "WARNING:tensorflow:From /home/jupyter/BNN.py:87: The name tf.summary.scalar is deprecated. Please use tf.compat.v1.summary.scalar instead.\n",
      "\n",
      "WARNING:tensorflow:From /home/jupyter/utils.py:6: The name tf.global_variables is deprecated. Please use tf.compat.v1.global_variables instead.\n",
      "\n",
      "WARNING:tensorflow:From /home/jupyter/utils.py:7: The name tf.is_variable_initialized is deprecated. Please use tf.compat.v1.is_variable_initialized instead.\n",
      "\n",
      "WARNING:tensorflow:From /home/jupyter/utils.py:10: The name tf.variables_initializer is deprecated. Please use tf.compat.v1.variables_initializer instead.\n",
      "\n",
      "WARNING:tensorflow:From /home/jupyter/BNN.py:92: The name tf.train.Saver is deprecated. Please use tf.compat.v1.train.Saver instead.\n",
      "\n",
      "Reading checkpoints...\n",
      "Initialising new model\n",
      "Reading checkpoints...\n",
      "Initialising new model\n",
      "Reading checkpoints...\n",
      "Initialising new model\n",
      "Reading checkpoints...\n",
      "Initialising new model\n",
      "Reading checkpoints...\n",
      "Initialising new model\n",
      "Reading checkpoints...\n",
      "Initialising new model\n",
      "Reading checkpoints...\n",
      "Initialising new model\n",
      "Reading checkpoints...\n",
      "Initialising new model\n",
      "Reading checkpoints...\n",
      "Initialising new model\n",
      "Reading checkpoints...\n",
      "Initialising new model\n",
      "Reading checkpoints...\n",
      "Initialising new model\n",
      "Reading checkpoints...\n",
      "Initialising new model\n",
      "Reading checkpoints...\n",
      "Initialising new model\n",
      "Reading checkpoints...\n",
      "Initialising new model\n",
      "Reading checkpoints...\n",
      "Initialising new model\n",
      "Reading checkpoints...\n",
      "Initialising new model\n",
      "Reading checkpoints...\n",
      "Initialising new model\n",
      "Reading checkpoints...\n",
      "Initialising new model\n",
      "Reading checkpoints...\n",
      "Initialising new model\n",
      "Reading checkpoints...\n",
      "Initialising new model\n"
     ]
    }
   ],
   "source": [
    "# Build the NNs within the ensemble\n",
    "NNs = []\n",
    "for i in range(num_NNs):\n",
    "    NNs.append(BNN(sess, checkpoint_dir.format(i),\n",
    "                   log_dir.format(i),\n",
    "                   x_dim, y_dim, num_models, n_data,\n",
    "                   hidden_size, learning_rate, lambda_anchor, \n",
    "                   init_std_1w, init_std_1b, init_std_2w,\n",
    "                   init_std_2b, init_std_biasw, init_std_noisew))"
   ]
  },
  {
   "cell_type": "markdown",
   "metadata": {},
   "source": [
    "Prior checks"
   ]
  },
  {
   "cell_type": "code",
   "execution_count": 5,
   "metadata": {},
   "outputs": [],
   "source": [
    "# Randomise the training data - 100000 points\n",
    "n_prior_points = 100000\n",
    "\n",
    "X_train, y_train = shuffle(X_train, y_train)\n",
    "X_prior = X_train[:n_prior_points]"
   ]
  },
  {
   "cell_type": "markdown",
   "metadata": {},
   "source": [
    "We want the standard deviation of the presoftmax layer to be ~1 as this ensures that our prior is that at any point any model combination is equally likely. Though this prior becomes the multi model mean when we average across the NNs in the ensemble"
   ]
  },
  {
   "cell_type": "code",
   "execution_count": 6,
   "metadata": {},
   "outputs": [
    {
     "name": "stdout",
     "output_type": "stream",
     "text": [
      "1.0085619132143706\n"
     ]
    },
    {
     "data": {
      "image/png": "[encoded data removed]",
      "text/plain": [
       "<Figure size 432x288 with 1 Axes>"
      ]
     },
     "metadata": {
      "needs_background": "light"
     },
     "output_type": "display_data"
    }
   ],
   "source": [
    "stds = get_pre_softmax_stds(NNs, X_prior)\n",
    "print(np.mean(stds))\n",
    "for i in range(len(NNs)):\n",
    "    plt.hist(stds[:, i], alpha=0.3)\n",
    "    plt.plot([np.mean(stds[:, i]), np.mean(stds[:, i])], [0, n_prior_points / 4])\n",
    "plt.show()    "
   ]
  },
  {
   "cell_type": "code",
   "execution_count": 7,
   "metadata": {},
   "outputs": [
    {
     "name": "stdout",
     "output_type": "stream",
     "text": [
      "Alpha mean should be: 0.07692307692307693\n",
      "Alpha mean is: 0.07692307692602679\n",
      "Alpha std should be: 0.07121693075173474\n",
      "Alpha std is: 0.07625856804143444\n"
     ]
    }
   ],
   "source": [
    "alphas = get_weights(NNs, X_prior)\n",
    "alpha = np.mean(alphas, axis=-1)\n",
    "\n",
    "print('Alpha mean should be: {}'.format(1/num_models))\n",
    "print('Alpha mean is: {}'.format(np.mean(alphas)))\n",
    "print('Alpha std should be: {}'.format(np.sqrt((1/(1 + num_models)) * (1/num_models)*(1-(1/num_models)))))\n",
    "print('Alpha std is: {}'.format(np.mean(np.std(alphas, axis=2))))"
   ]
  },
  {
   "cell_type": "code",
   "execution_count": 8,
   "metadata": {},
   "outputs": [
    {
     "name": "stdout",
     "output_type": "stream",
     "text": [
      "Beta mean should be: 0.0\n",
      "Beta mean is: 0.0030271107554477096\n",
      "Beta std should be: 0.02\n",
      "Beta std is: 0.020115897020867274\n"
     ]
    }
   ],
   "source": [
    "beta = get_bias(NNs, X_prior)\n",
    "print('Beta mean should be: {}'.format(bias_mean))\n",
    "print('Beta mean is: {}'.format(np.mean(beta)))\n",
    "print('Beta std should be: {}'.format(bias_std))\n",
    "print('Beta std is: {}'.format(np.mean(np.std(beta, axis=1))))"
   ]
  },
  {
   "cell_type": "code",
   "execution_count": 9,
   "metadata": {},
   "outputs": [
    {
     "name": "stdout",
     "output_type": "stream",
     "text": [
      "Noise mean should be: 0.03\n",
      "Noise mean is: 0.03343835119904624\n",
      "Noise std should be: 0.02\n",
      "Noise std is: 0.019850035421631673\n"
     ]
    }
   ],
   "source": [
    "noise = get_aleatoric_noise(NNs, X_prior)\n",
    "print('Noise mean should be: {}'.format(noise_mean))\n",
    "print('Noise mean is: {}'.format(np.mean(noise)))\n",
    "print('Noise std should be: {}'.format(noise_std))\n",
    "print('Noise std is: {}'.format(np.mean(np.std(noise, axis=1))))"
   ]
  }
 ],
 "metadata": {
  "environment": {
   "name": "tf-gpu.1-15.m76",
   "type": "gcloud",
   "uri": "gcr.io/deeplearning-platform-release/tf-gpu.1-15:m76"
  },
  "kernelspec": {
   "display_name": "Python 3",
   "language": "python",
   "name": "python3"
  },
  "language_info": {
   "codemirror_mode": {
    "name": "ipython",
    "version": 3
   },
   "file_extension": ".py",
   "mimetype": "text/x-python",
   "name": "python",
   "nbconvert_exporter": "python",
   "pygments_lexer": "ipython3",
   "version": "3.7.10"
  }
 },
 "nbformat": 4,
 "nbformat_minor": 4
}
