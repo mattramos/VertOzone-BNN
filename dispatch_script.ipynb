{
 "cells": [
  {
   "cell_type": "code",
   "execution_count": null,
   "id": "08f064ac",
   "metadata": {},
   "outputs": [],
   "source": [
    "import warnings\n",
    "import tensorflow as tf\n",
    "import subprocess\n",
    "import numpy as np\n",
    "import time"
   ]
  },
  {
   "cell_type": "code",
   "execution_count": null,
   "id": "c3630ee2",
   "metadata": {},
   "outputs": [],
   "source": [
    "num_gpus = 4\n",
    "num_ens_members = 48\n",
    "num_par_pro = 2\n",
    "\n",
    "num_ens_per_pro = num_ens_members // (num_gpus * num_par_pro)"
   ]
  },
  {
   "cell_type": "code",
   "execution_count": null,
   "id": "297a41a7",
   "metadata": {},
   "outputs": [],
   "source": [
    "running_pro = 1\n",
    "while running_pro <= num_ens_members:\n",
    "    for gpu in range(0, num_gpus):\n",
    "        for pro in range(num_par_pro):\n",
    "            seed = running_pro + 1\n",
    "            num_NN0 = running_pro\n",
    "            num_NNs = num_ens_per_pro\n",
    "            running_pro += num_NNs\n",
    "            print('NNs {} to {} running with seed {} on GPU {}'.format(num_NN0, num_NN0 + num_NNs - 1, seed, gpu))\n",
    "            pro = subprocess.Popen(['python',\n",
    "                                    'multi_train_BNN.py',\n",
    "                                    str(seed),\n",
    "                                    str(gpu),\n",
    "                                    str(num_NN0),\n",
    "                                    str(num_NNs)]) #,stdout=subprocess.PIPE, stderr=subprocess.PIPE)\n",
    "# stdout, stderr = pro.communicate()"
   ]
  }
 ],
 "metadata": {
  "environment": {
   "name": "tf-gpu.1-15.m76",
   "type": "gcloud",
   "uri": "gcr.io/deeplearning-platform-release/tf-gpu.1-15:m76"
  },
  "kernelspec": {
   "display_name": "Python 3",
   "language": "python",
   "name": "python3"
  },
  "language_info": {
   "codemirror_mode": {
    "name": "ipython",
    "version": 3
   },
   "file_extension": ".py",
   "mimetype": "text/x-python",
   "name": "python",
   "nbconvert_exporter": "python",
   "pygments_lexer": "ipython3",
   "version": "3.7.10"
  }
 },
 "nbformat": 4,
 "nbformat_minor": 5
}
